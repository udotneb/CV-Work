{
 "cells": [
  {
   "cell_type": "code",
   "execution_count": 1,
   "metadata": {
    "collapsed": true
   },
   "outputs": [],
   "source": [
    "import numpy as np\n",
    "import cv2\n",
    "from colormap import rgb2hex\n",
    "from scipy.linalg import circulant"
   ]
  },
  {
   "cell_type": "code",
   "execution_count": 5,
   "metadata": {
    "collapsed": true
   },
   "outputs": [],
   "source": [
    "kernelFive = np.ones((5,5)) / 25\n",
    "kernelThree = np.ones((3,3)) / 9"
   ]
  },
  {
   "cell_type": "code",
   "execution_count": 33,
   "metadata": {},
   "outputs": [
    {
     "ename": "error",
     "evalue": "OpenCV(3.4.4) /Users/travis/build/skvark/opencv-python/opencv/modules/core/src/matrix.cpp:757: error: (-215:Assertion failed) dims <= 2 && step[0] > 0 in function 'locateROI'\n",
     "output_type": "error",
     "traceback": [
      "\u001b[0;31m---------------------------------------------------------------------------\u001b[0m",
      "\u001b[0;31merror\u001b[0m                                     Traceback (most recent call last)",
      "\u001b[0;32m<ipython-input-33-05323f280866>\u001b[0m in \u001b[0;36m<module>\u001b[0;34m()\u001b[0m\n\u001b[1;32m      6\u001b[0m     \u001b[0mret\u001b[0m\u001b[0;34m,\u001b[0m \u001b[0mframe\u001b[0m \u001b[0;34m=\u001b[0m \u001b[0mcap\u001b[0m\u001b[0;34m.\u001b[0m\u001b[0mread\u001b[0m\u001b[0;34m(\u001b[0m\u001b[0;34m)\u001b[0m\u001b[0;34m\u001b[0m\u001b[0m\n\u001b[1;32m      7\u001b[0m \u001b[0;34m\u001b[0m\u001b[0m\n\u001b[0;32m----> 8\u001b[0;31m     \u001b[0msmoothed\u001b[0m \u001b[0;34m=\u001b[0m \u001b[0mcv2\u001b[0m\u001b[0;34m.\u001b[0m\u001b[0mGaussianBlur\u001b[0m\u001b[0;34m(\u001b[0m\u001b[0mframe\u001b[0m\u001b[0;34m,\u001b[0m \u001b[0;34m(\u001b[0m\u001b[0;36m5\u001b[0m\u001b[0;34m,\u001b[0m \u001b[0;36m5\u001b[0m\u001b[0;34m)\u001b[0m\u001b[0;34m,\u001b[0m \u001b[0;36m0\u001b[0m\u001b[0;34m)\u001b[0m\u001b[0;34m\u001b[0m\u001b[0m\n\u001b[0m\u001b[1;32m      9\u001b[0m \u001b[0;34m\u001b[0m\u001b[0m\n\u001b[1;32m     10\u001b[0m     \u001b[0mhsv\u001b[0m \u001b[0;34m=\u001b[0m \u001b[0mcv2\u001b[0m\u001b[0;34m.\u001b[0m\u001b[0mcvtColor\u001b[0m\u001b[0;34m(\u001b[0m\u001b[0msmoothed\u001b[0m\u001b[0;34m,\u001b[0m \u001b[0mcv2\u001b[0m\u001b[0;34m.\u001b[0m\u001b[0mCOLOR_BGR2HSV\u001b[0m\u001b[0;34m)\u001b[0m\u001b[0;34m\u001b[0m\u001b[0m\n",
      "\u001b[0;31merror\u001b[0m: OpenCV(3.4.4) /Users/travis/build/skvark/opencv-python/opencv/modules/core/src/matrix.cpp:757: error: (-215:Assertion failed) dims <= 2 && step[0] > 0 in function 'locateROI'\n"
     ]
    }
   ],
   "source": [
    "cap = cv2.VideoCapture(0)\n",
    "cap.set(3, 512)\n",
    "cap.set(4, 1024)\n",
    "while(True):\n",
    "    # Capture frame-by-frame\n",
    "    ret, frame = cap.read()\n",
    "    \n",
    "    smoothed = cv2.GaussianBlur(frame, (5, 5), 0)\n",
    "    \n",
    "    hsv = cv2.cvtColor(smoothed, cv2.COLOR_BGR2HSV)\n",
    "    lab = cv2.cvtColor(smoothed, cv2.COLOR_BGR2LAB)\n",
    "\n",
    "    lowerHSV = (0, 0, 150)\n",
    "    higherHSV = (50, 100, 255)\n",
    "    \n",
    "    mask = cv2.inRange(hsv, lowerHSV, higherHSV)\n",
    "    \n",
    "    ones = np.ones(frame.shape)\n",
    "    res = cv2.bitwise_and(ones,ones, mask= mask)\n",
    "\n",
    "    kernelFive = np.ones((5,5)) / 25\n",
    "    kernelThree = np.ones((3,3)) / 9\n",
    "    \n",
    "    res = cv2.erode(res, kernelThree, iterations = 1)\n",
    "    res = cv2.dilate(res, kernelThree, iterations = 1)\n",
    "    # find edges\n",
    "    \n",
    "    \n",
    "    \n",
    "    #cv2.drawContours(res, contours, -1, (0,255,0), 3)\n",
    "    \n",
    "    cv2.imshow('frame', res)\n",
    "    cv2.imshow('before', lab)\n",
    "    \n",
    "    \n",
    "    if cv2.waitKey(1) & 0xFF == ord('q'):\n",
    "        break\n",
    "    \n",
    "\n",
    "# When everything done, release the capture\n",
    "cap.release()\n",
    "cv2.destroyAllWindows()"
   ]
  },
  {
   "cell_type": "code",
   "execution_count": null,
   "metadata": {
    "collapsed": true
   },
   "outputs": [],
   "source": []
  },
  {
   "cell_type": "code",
   "execution_count": null,
   "metadata": {
    "collapsed": true
   },
   "outputs": [],
   "source": []
  },
  {
   "cell_type": "code",
   "execution_count": 16,
   "metadata": {
    "collapsed": true
   },
   "outputs": [],
   "source": [
    "img = cv2.imread('ballPicture.jpeg')\n",
    "height, width = img.shape[0], img.shape[1]\n",
    "img = cv2.resize(img, (width // 2, height // 2))\n",
    "# 1) Find ball, identify it\n",
    "# IT IS IN BGR NOT RGB\n",
    "\n",
    "lowerHSV = (0, 0, 150)\n",
    "higherHSV = (20, 100, 255)\n",
    "\n",
    "\n",
    "hsv = cv2.cvtColor(img, cv2.COLOR_BGR2HSV)\n",
    "lab = cv2.cvtColor(img, cv2.COLOR_BGR2LAB)\n",
    "YCrCb = cv2.cvtColor(img, cv2.COLOR_BGR2YCrCb)\n",
    "mask = cv2.inRange(hsv, lowerHSV, higherHSV)\n",
    "\n",
    "\n",
    "res = cv2.bitwise_and(img, img, mask= mask)\n",
    "\n",
    "\n",
    "res = cv2.erode(res, kernelFive, iterations = 1)\n",
    "res = cv2.erode(res, kernelThree, iterations = 2)\n",
    "res = cv2.dilate(res, kernelThree, iterations = 2)\n",
    "res = cv2.dilate(res, kernelFive, iterations = 1)\n",
    "\n",
    "cv2.imshow('img', img)\n",
    "cv2.imshow('ycr', YCrCb)\n",
    "cv2.imshow('hsv', hsv)\n",
    "cv2.imshow('lab', lab)\n",
    "\n",
    "cv2.waitKey(0)\n",
    "cv2.destroyAllWindows()"
   ]
  },
  {
   "cell_type": "code",
   "execution_count": null,
   "metadata": {
    "scrolled": true
   },
   "outputs": [],
   "source": []
  },
  {
   "cell_type": "code",
   "execution_count": null,
   "metadata": {
    "collapsed": true
   },
   "outputs": [],
   "source": []
  }
 ],
 "metadata": {
  "kernelspec": {
   "display_name": "Python 3",
   "language": "python",
   "name": "python3"
  },
  "language_info": {
   "codemirror_mode": {
    "name": "ipython",
    "version": 3
   },
   "file_extension": ".py",
   "mimetype": "text/x-python",
   "name": "python",
   "nbconvert_exporter": "python",
   "pygments_lexer": "ipython3",
   "version": "3.6.3"
  }
 },
 "nbformat": 4,
 "nbformat_minor": 2
}
